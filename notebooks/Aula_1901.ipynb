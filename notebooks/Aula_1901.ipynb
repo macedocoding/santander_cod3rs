{
 "cells": [
  {
   "cell_type": "code",
   "execution_count": 21,
   "id": "e1df4a5e-92ac-4940-b84a-4991d9ecf172",
   "metadata": {},
   "outputs": [
    {
     "name": "stdout",
     "output_type": "stream",
     "text": [
      "Data em UTC: 2024-01-19 22:55:24 UTC\n"
     ]
    }
   ],
   "source": [
    "from datetime import datetime, timezone\n",
    "\n",
    "def obter_data_utc():\n",
    "    data_utc = datetime.now(timezone.utc)\n",
    "\n",
    "    data_formatada = data_utc.strftime(\"%Y-%m-%d %H:%M:%S %Z\")\n",
    "\n",
    "    return data_formatada\n",
    "data = obter_data_utc()\n",
    "\n",
    "print(\"Data em UTC:\", data)"
   ]
  },
  {
   "cell_type": "code",
   "execution_count": 18,
   "id": "91528e1b-f7a3-453e-bb92-da9459ba6696",
   "metadata": {},
   "outputs": [
    {
     "data": {
      "text/plain": [
       "_io.TextIOWrapper"
      ]
     },
     "execution_count": 18,
     "metadata": {},
     "output_type": "execute_result"
    }
   ],
   "source": [
    "arquivo = open('ola.txt', 'w')\n",
    "type(arquivo)"
   ]
  }
 ],
 "metadata": {
  "kernelspec": {
   "display_name": "Python 3 (ipykernel)",
   "language": "python",
   "name": "python3"
  },
  "language_info": {
   "codemirror_mode": {
    "name": "ipython",
    "version": 3
   },
   "file_extension": ".py",
   "mimetype": "text/x-python",
   "name": "python",
   "nbconvert_exporter": "python",
   "pygments_lexer": "ipython3",
   "version": "3.10.13"
  }
 },
 "nbformat": 4,
 "nbformat_minor": 5
}
