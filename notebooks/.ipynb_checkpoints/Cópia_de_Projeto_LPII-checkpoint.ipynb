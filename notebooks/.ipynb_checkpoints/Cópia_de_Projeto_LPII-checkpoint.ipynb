{
  "nbformat": 4,
  "nbformat_minor": 0,
  "metadata": {
    "colab": {
      "private_outputs": true,
      "provenance": []
    },
    "kernelspec": {
      "name": "python3",
      "display_name": "Python 3"
    },
    "language_info": {
      "name": "python"
    }
  },
  "cells": [
    {
      "cell_type": "markdown",
      "source": [
        "# Projeto Final - Sistema de Controle Financeiro"
      ],
      "metadata": {
        "id": "QcN62PrTNuNr"
      }
    },
    {
      "cell_type": "markdown",
      "source": [
        "Deverá ser desenvolvido um sistema para controle financeiro que receba as movimentações e as armazena em um arquivo csv ou json.\n",
        "\n",
        "O sistema deverá ser capaz de realizar as seguintes operações:\n",
        "\n",
        "- **Criar** novos registros e identificar a data que o registro foi feito, qual tipo de movimentação, valor.\n",
        "\n",
        "- Os tipos podem ser despesas, receita ou investimento:\n",
        "  - No caso de receita, o valor deve ser tratado como numerico e armazenado normalmente.\n",
        "  - no caso de despesas o valor deve ser recebido como positivo, mas armazenado como negativo\n",
        "  - No caso de investimento, deve ter uma informação a mais de 'Montante', em que será calculado quanto o dinheiro rendeu desde o dia que foi investido. Para essa finalidade utilize a seguinte formula: $M = C * (1 + i)^t$ ([Saiba mais](https://matematicafinanceira.org/juros-compostos/)), considere tudo em dias.\n",
        "- **Ler** registros: Deverá ser possível consultar os registros por data, tipo ou valor.\n",
        "- **Atualizar** registros: No caso de atualização, pode-se atualizar o valor, o tipo e a data deverá ser a de atualização do registro.\n",
        "- **Deletar**: Deverá ser possível deletar o registro (caso necessário, considere o indice do elemento como ID)\n",
        "- Crie uma função que atualize os valores de rendimento sempre que chamada\n",
        "- Crie uma função exportar_relatorio, que seja possível exportar um relatorio final em csv ou json .\n",
        "- Crie pelo menos uma função de agrupamento, que seja capaz de mostrar o total de valor baseado em alguma informação (mes, tipo...)\n",
        "- Crie valores separados para identificar a data (dia, mes, ano)\n",
        "\n",
        "---\n",
        "\n",
        "Atenção:\n",
        "- Não utilize a biblioteca pandas para resolução desse exercício\n",
        "- Deem um nome criativo para a aplicação de vocês"
      ],
      "metadata": {
        "id": "h-tcXISlOEy_"
      }
    },
    {
      "cell_type": "code",
      "source": [],
      "metadata": {
        "id": "T_9OHPSuOERo"
      },
      "execution_count": null,
      "outputs": []
    },
    {
      "cell_type": "code",
      "source": [],
      "metadata": {
        "id": "5dEL-VgcmNfG"
      },
      "execution_count": null,
      "outputs": []
    }
  ]
}